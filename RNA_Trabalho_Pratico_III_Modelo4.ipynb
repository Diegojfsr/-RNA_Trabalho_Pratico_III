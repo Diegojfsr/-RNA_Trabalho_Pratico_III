{
  "nbformat": 4,
  "nbformat_minor": 0,
  "metadata": {
    "colab": {
      "provenance": []
    },
    "kernelspec": {
      "name": "python3",
      "display_name": "Python 3"
    },
    "language_info": {
      "name": "python"
    },
    "accelerator": "GPU",
    "gpuClass": "standard"
  },
  "cells": [
    {
      "cell_type": "code",
      "execution_count": null,
      "metadata": {
        "id": "vcZ7eZEb35Y8"
      },
      "outputs": [],
      "source": [
        "! pip install --upgrade numpy\n",
        "! pip install --upgrade pandas\n",
        "! pip install --upgrade pandas-datareader"
      ]
    },
    {
      "cell_type": "code",
      "source": [
        "import pandas_datareader as dados\n",
        "import pandas as pd\n",
        "\n",
        "#ativo = \"AMZN\"  # https://finance.yahoo.com/ ##Amazon\n",
        "#ativo = \"NTCO3.SA\"  # https://finance.yahoo.com/ ##Natura\n",
        "#ativo = \"VALE3.SA\"  # https://finance.yahoo.com/ ##Vale\n",
        "\n",
        "ativo = \"AMZN\"  # https://finance.yahoo.com/\n",
        "\n",
        "##Dados_Ativo = os dados biaxados da api iniciando e finalizando o dataset\n",
        "\n",
        "dados_do_ativo = dados.DataReader(ativo, start=\"2020-01-01\",end=\"2022-11-30\", data_source='yahoo')\n",
        "#dados_do_ativo = dados.DataReader(ativo, start=\"2018-01-01\",end=\"2022-11-30\", data_source='yahoo')\n",
        "#dados_do_ativo = dados.DataReader(ativo, start=\"2018-01-01\",end=\"2022-11-30\", data_source='yahoo')\n",
        "\n",
        "#dados_do_ativo = dados.DataReader(ativo, start=\"2022-11-01\",end=\"2022-11-20\", data_source='yahoo')"
      ],
      "metadata": {
        "id": "mD_yllh14FwG"
      },
      "execution_count": 16,
      "outputs": []
    },
    {
      "cell_type": "code",
      "source": [
        "dados_do_ativo"
      ],
      "metadata": {
        "id": "asNdsa7R4doT"
      },
      "execution_count": null,
      "outputs": []
    },
    {
      "cell_type": "code",
      "source": [
        "dados_do_ativo.shape"
      ],
      "metadata": {
        "id": "Oltp5Zlo4itz"
      },
      "execution_count": null,
      "outputs": []
    },
    {
      "cell_type": "code",
      "source": [
        "import numpy as np\n",
        "import matplotlib.pyplot as plt\n",
        "import pandas as pd\n",
        "import pandas_datareader as web\n",
        "import datetime as dt\n",
        "\n",
        "from sklearn.preprocessing import MinMaxScaler\n",
        "from tensorflow.keras.models import Sequential\n",
        "from tensorflow.keras.layers import Dense, Dropout, LSTM"
      ],
      "metadata": {
        "id": "BeQ4mugo4zKF"
      },
      "execution_count": 17,
      "outputs": []
    },
    {
      "cell_type": "code",
      "source": [
        "### Preparando os dados\n",
        "normalizando = MinMaxScaler(feature_range=(0,1))  ##Normaliza os dados/valores entre 0 e 1\n",
        "dados_normalizados = normalizando.fit_transform(dados_do_ativo['Close'].values.reshape(-1,1)) # dados_normalizados recebe a coluna close de dados_do_Ativo\n",
        "\n",
        "previsao_dias = 60 ## previsao usara 2meses\n",
        "\n",
        "x_treinar, y_treinar = [], [] ## Valores atuais que a rede ira preve\n",
        "\n",
        "##percorre o periodo de tempo, separando os valores em x,y | Começa de 60 em 60 entre 2020 e 2022\n",
        "for x in range(previsao_dias, len(dados_normalizados)):\n",
        "    x_treinar.append(dados_normalizados[x-previsao_dias:x, 0])\n",
        "    y_treinar.append(dados_normalizados[x, 0 ])\n",
        "    \n",
        "##Coloca os dados em matriz    \n",
        "x_treinar, y_treinar = np.array(x_treinar), np.array(y_treinar)\n",
        "x_treinar = np.reshape(x_treinar, (x_treinar.shape[0], x_treinar.shape[1], 1))"
      ],
      "metadata": {
        "id": "l1Cdndzz4rZD"
      },
      "execution_count": 18,
      "outputs": []
    },
    {
      "cell_type": "code",
      "source": [
        "### Construindo o Modelo\n",
        "\n",
        "\n",
        "modelo = Sequential()\n",
        "\n",
        "modelo.add(LSTM(units=50, return_sequences=True, input_shape=(x_treinar.shape[1], 1)))#mesmo formato de dados da matriz\n",
        "modelo.add(Dropout(0.2))#Desliga 20%dos neuronios a cada passada\n",
        "modelo.add(LSTM(units=50, return_sequences=True))\n",
        "modelo.add(Dropout(0.2))\n",
        "modelo.add(LSTM(units=50))\n",
        "modelo.add(Dropout(0.2))\n",
        "modelo.add(Dense(units = 1)) #Prevendo o proximo valor da acao\n",
        "\n",
        "modelo.compile(optimizer = 'adam', loss = 'mean_squared_error')# optimizador Adam e loss Valor medio ao quadrado\n",
        "modelo.fit(x_treinar, y_treinar, epochs = 25, batch_size = 32) ## 25 interações 32 pacotes d einformação a cada paçada"
      ],
      "metadata": {
        "id": "a1EoAoj666Nc"
      },
      "execution_count": null,
      "outputs": []
    },
    {
      "cell_type": "code",
      "source": [
        "### Preparar dados teste\n",
        "\n",
        "teste_inicio = dt.datetime(2020,1,1) # Inicio do teste\n",
        "teste_final = dt.datetime.now()   #Final do teste\n",
        "\n",
        "dados_teste = web.DataReader(ativo, 'yahoo', teste_inicio, teste_final)\n",
        "precos_reais = dados_teste['Close'].values\n",
        "\n",
        "total_dados = pd.concat((dados_do_ativo['Close'], dados_teste['Close']), axis = 0)  #total_dados = os dados de traino e os dados de teste\n",
        "\n",
        "modelo_entrada = total_dados[len(total_dados) - len(dados_teste) - previsao_dias:].values #total de dados menos os dados de teste\n",
        "modelo_entrada = modelo_entrada.reshape(-1, 1)\n",
        "modelo_entrada = normalizando.transform(modelo_entrada)#normaliza o modelo de entrada"
      ],
      "metadata": {
        "id": "jyWXngfd8EuQ"
      },
      "execution_count": 20,
      "outputs": []
    },
    {
      "cell_type": "code",
      "source": [
        "###Previsao nos valores de teste\n",
        "\n",
        "x_teste = []\n",
        "\n",
        "##percorre o periodo de tempo, separando os valores em x,y | Começa de 60 em 60 entre 2020 e 2022\n",
        "for x in range(previsao_dias, len(modelo_entrada)):\n",
        "    x_teste.append(modelo_entrada[x-previsao_dias:x, 0])\n",
        "    \n",
        "    ##Coloca os dados em matriz \n",
        "x_teste = np.array(x_teste)\n",
        "x_teste = np.reshape(x_teste, (x_teste.shape[0], x_teste.shape[1], 1))\n",
        " \n",
        "previsao_precos = modelo.predict(x_teste) #previsao precos = modelo\n",
        "previsao_precos = normalizando.inverse_transform(previsao_precos)#normaliza os dados 0a1"
      ],
      "metadata": {
        "colab": {
          "base_uri": "https://localhost:8080/"
        },
        "id": "Ud9wBqbq-Kxi",
        "outputId": "edf05577-02df-41af-a4ab-68ae07b2c930"
      },
      "execution_count": 22,
      "outputs": [
        {
          "output_type": "stream",
          "name": "stdout",
          "text": [
            "24/24 [==============================] - 1s 7ms/step\n"
          ]
        }
      ]
    },
    {
      "cell_type": "code",
      "source": [
        "### Montando a Representação Grafica do Modelo\n",
        "\n",
        "plt.plot(precos_reais, color ='red', label = f\"Valor Real das acoes de {ativo}\")\n",
        "plt.plot(previsao_precos, color=\"green\", label = f\"Previsao das acoes de {ativo}\" )\n",
        "plt.title(f\"{ativo} Preco Acao\")\n",
        "plt.xlabel('Tempo')\n",
        "plt.ylabel(f\"{ativo} Preco Acao\")\n",
        "plt.legend()\n",
        "plt.show()"
      ],
      "metadata": {
        "id": "JPaB5pwm_VuH"
      },
      "execution_count": null,
      "outputs": []
    },
    {
      "cell_type": "code",
      "source": [
        "###Prevendo Valores Futuros\n",
        "\n",
        "dados_reais =  [modelo_entrada[len(modelo_entrada) + 1 - previsao_dias:len(modelo_entrada + 1), 0]]\n",
        "dados_reais =  np.array(dados_reais)\n",
        "dados_reais = np.reshape(dados_reais, (dados_reais.shape[0], dados_reais.shape[1], 1))\n",
        "\n",
        "previsao = modelo.predict(dados_reais)\n",
        "previsao = normalizando.inverse_transform(previsao)\n",
        "\n",
        "print(f\"Previsao para amanha: {previsao}\")"
      ],
      "metadata": {
        "id": "ypzJXwPX_st2"
      },
      "execution_count": null,
      "outputs": []
    }
  ]
}