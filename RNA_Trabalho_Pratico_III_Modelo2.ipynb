{
  "nbformat": 4,
  "nbformat_minor": 0,
  "metadata": {
    "colab": {
      "provenance": []
    },
    "kernelspec": {
      "name": "python3",
      "display_name": "Python 3"
    },
    "language_info": {
      "name": "python"
    }
  },
  "cells": [
    {
      "cell_type": "code",
      "execution_count": null,
      "metadata": {
        "id": "x2gSARCVkPN4"
      },
      "outputs": [],
      "source": [
        "import numpy as np\n",
        "import matplotlib.pyplot as plt\n",
        "import pandas as pd\n",
        "import pandas_datareader as web\n",
        "import datetime as dt"
      ]
    },
    {
      "cell_type": "code",
      "source": [
        "from sklearn.preprocessing import MinMaxScaler\n",
        "from tensorflow.keras.models import Sequential\n",
        "from tensorflow.keras.layers import Dense, Dropout, LSTM"
      ],
      "metadata": {
        "id": "QF9V35m0lKZY"
      },
      "execution_count": null,
      "outputs": []
    },
    {
      "cell_type": "markdown",
      "source": [
        "#Importando Dados"
      ],
      "metadata": {
        "id": "FVLOF_OUlNUk"
      }
    },
    {
      "cell_type": "code",
      "source": [
        "empresa = 'FB'\n",
        "\n",
        "inicio = dt.datetime(2012,1,1)\n",
        "final = dt.datetime(2020,1,1)\n",
        "\n",
        "dados = web.DataReader(empresa, 'yahoo', inicio, final)"
      ],
      "metadata": {
        "id": "evjaQxxBlMlx"
      },
      "execution_count": null,
      "outputs": []
    },
    {
      "cell_type": "markdown",
      "source": [
        "#Preparar Dados"
      ],
      "metadata": {
        "id": "pO3VqPLzlTxi"
      }
    },
    {
      "cell_type": "code",
      "source": [
        "normalizando = MinMaxScaler(feature_range=(0,1))\n",
        "dados_normalizados = normalizando.fit_transform(dados['Close'].values.reshape(-1,1))\n",
        "\n",
        "previsao_dias = 60\n",
        "\n",
        "x_treinar, y_treinar = [], []\n",
        "\n",
        "for x in range(previsao_dias, len(dados_normalizados)):\n",
        "    x_treinar.append(dados_normalizados[x-previsao_dias:x, 0])\n",
        "    y_treinar.append(dados_normalizados[x, 0 ])\n",
        "    \n",
        "x_treinar, y_treinar = np.array(x_treinar), np.array(y_treinar)\n",
        "x_treinar = np.reshape(x_treinar, (x_treinar.shape[0], x_treinar.shape[1], 1))\n"
      ],
      "metadata": {
        "id": "Ohj_SpN4lWUa"
      },
      "execution_count": null,
      "outputs": []
    },
    {
      "cell_type": "markdown",
      "source": [
        "#Construindo nosso modelo de rede neural"
      ],
      "metadata": {
        "id": "ZeWsmpRvlZM2"
      }
    },
    {
      "cell_type": "code",
      "source": [
        "modelo = Sequential()\n",
        "\n",
        "modelo.add(LSTM(units=50, return_sequences=True, input_shape=(x_treinar.shape[1], 1)))\n",
        "modelo.add(Dropout(0.2))\n",
        "modelo.add(LSTM(units=50, return_sequences=True))\n",
        "modelo.add(Dropout(0.2))\n",
        "modelo.add(LSTM(units=50))\n",
        "modelo.add(Dropout(0.2))\n",
        "modelo.add(Dense(units = 1)) #Prevendo o proximo valor da acao\n",
        "\n",
        "modelo.compile(optimizer = 'adam', loss = 'mean_squared_error')\n",
        "modelo.fit(x_treinar, y_treinar, epochs = 25, batch_size = 32)"
      ],
      "metadata": {
        "id": "IE2Wx1vylcH_"
      },
      "execution_count": null,
      "outputs": []
    },
    {
      "cell_type": "markdown",
      "source": [
        "Testando a precisao do nosso modelo em dados existentes"
      ],
      "metadata": {
        "id": "ImaYryI6lfBW"
      }
    },
    {
      "cell_type": "markdown",
      "source": [
        "#preparando alguns dados para teste"
      ],
      "metadata": {
        "id": "BJoVcX9blmAF"
      }
    },
    {
      "cell_type": "code",
      "source": [
        "teste_inicio = dt.datetime(2020,1,1)\n",
        "teste_final = dt.datetime.now()\n",
        "\n",
        "dados_teste = web.DataReader(empresa, 'yahoo', teste_inicio, teste_final)\n",
        "precos_reais = dados_teste['Close'].values\n",
        "\n",
        "total_dados = pd.concat((dados['Close'], dados_teste['Close']), axis = 0)\n",
        "\n",
        "modelo_entrada = total_dados[len(total_dados) - len(dados_teste) - previsao_dias:].values\n",
        "modelo_entrada = modelo_entrada.reshape(-1, 1)\n",
        "modelo_entrada = normalizando.transform(modelo_entrada)"
      ],
      "metadata": {
        "id": "FbllFGFSliOx"
      },
      "execution_count": null,
      "outputs": []
    },
    {
      "cell_type": "markdown",
      "source": [
        "#Fazer previsoes nos valores de teste"
      ],
      "metadata": {
        "id": "MKvNFnBzlr42"
      }
    },
    {
      "cell_type": "code",
      "source": [
        "x_teste = []\n",
        "\n",
        "for x in range(previsao_dias, len(modelo_entrada)):\n",
        "    x_teste.append(modelo_entrada[x-previsao_dias:x, 0])\n",
        "    \n",
        "x_teste = np.array(x_teste)\n",
        "x_teste = np.reshape(x_teste, (x_teste.shape[0], x_teste.shape[1], 1))\n",
        "\n",
        "previsao_precos = modelo.predict(x_teste)\n",
        "previsao_precos = normalizando.inverse_transform(previsao_precos)"
      ],
      "metadata": {
        "id": "kpFkb-89luT3"
      },
      "execution_count": null,
      "outputs": []
    },
    {
      "cell_type": "markdown",
      "source": [
        "#Representando Graficamente as Previsoes"
      ],
      "metadata": {
        "id": "Ig92IHezlxPx"
      }
    },
    {
      "cell_type": "code",
      "source": [
        "plt.plot(precos_reais, color ='red', label = f\"Valor Real das acoes de {empresa}\")\n",
        "plt.plot(previsao_precos, color=\"green\", label = f\"Previsao das acoes de {empresa}\" )\n",
        "plt.title(f\"{empresa} Preco Acao\")\n",
        "plt.xlabel('Tempo')\n",
        "plt.ylabel(f\"{empresa} Preco Acao\")\n",
        "plt.legend()\n",
        "plt.show()"
      ],
      "metadata": {
        "id": "d9zYTgCrl1QI"
      },
      "execution_count": null,
      "outputs": []
    },
    {
      "cell_type": "markdown",
      "source": [
        "#Prevendo os proximos dias"
      ],
      "metadata": {
        "id": "kZ3FHSDrl3xu"
      }
    },
    {
      "cell_type": "code",
      "source": [
        "dados_reais =  [modelo_entrada[len(modelo_entrada) + 1 - previsao_dias:len(modelo_entrada + 1), 0]]\n",
        "dados_reais =  np.array(dados_reais)\n",
        "dados_reais = np.reshape(dados_reais, (dados_reais.shape[0], dados_reais.shape[1], 1))\n",
        "\n",
        "previsao = modelo.predict(dados_reais)\n",
        "previsao = normalizando.inverse_transform(previsao)\n",
        "\n",
        "print(f\"Previsao para amanha: {previsao}\")"
      ],
      "metadata": {
        "id": "jdolqWAZl6qV"
      },
      "execution_count": null,
      "outputs": []
    }
  ]
}