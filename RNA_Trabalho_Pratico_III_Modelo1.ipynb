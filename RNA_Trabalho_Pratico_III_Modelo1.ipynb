{
  "nbformat": 4,
  "nbformat_minor": 0,
  "metadata": {
    "colab": {
      "provenance": []
    },
    "kernelspec": {
      "name": "python3",
      "display_name": "Python 3"
    },
    "language_info": {
      "name": "python"
    },
    "accelerator": "GPU",
    "gpuClass": "standard"
  },
  "cells": [
    {
      "cell_type": "markdown",
      "source": [
        "# Configurações da biblioteca pandas_datareader"
      ],
      "metadata": {
        "id": "05DI2oKCOkP_"
      }
    },
    {
      "cell_type": "code",
      "execution_count": null,
      "metadata": {
        "id": "eBsJ7fQRNrvY"
      },
      "outputs": [],
      "source": [
        "! pip install --upgrade numpy\n",
        "! pip install --upgrade pandas\n",
        "! pip install --upgrade pandas-datareader"
      ]
    },
    {
      "cell_type": "markdown",
      "source": [
        "# Obtenção dos dados"
      ],
      "metadata": {
        "id": "TSzX3fUaOtPW"
      }
    },
    {
      "cell_type": "code",
      "source": [
        "import pandas_datareader as dados\n",
        "import pandas as pd\n",
        "\n",
        "#ativo = \"AMZN\"  # https://finance.yahoo.com/ ##Amazon\n",
        "#ativo = \"NTCO3.SA\"  # https://finance.yahoo.com/ ##Natura\n",
        "#ativo = \"VALE3.SA\"  # https://finance.yahoo.com/ ##Vale\n",
        "\n",
        "ativo = \"AMZN\"  # https://finance.yahoo.com/\n",
        "\n",
        "##Dados_Ativo = os dados biaxados da api iniciando e finalizando o dataset\n",
        "\n",
        "dados_do_ativo = dados.DataReader(ativo, start=\"2015-01-01\",end=\"2021-08-24\", data_source='yahoo')\n",
        "#dados_do_ativo = dados.DataReader(ativo, start=\"2018-01-01\",end=\"2022-11-30\", data_source='yahoo')\n",
        "#dados_do_ativo = dados.DataReader(ativo, start=\"2018-01-01\",end=\"2022-11-30\", data_source='yahoo')\n",
        "\n",
        "#dados_do_ativo = dados.DataReader(ativo, start=\"2022-11-01\",end=\"2022-11-20\", data_source='yahoo')"
      ],
      "metadata": {
        "id": "b5DZ7PCQOsov"
      },
      "execution_count": 146,
      "outputs": []
    },
    {
      "cell_type": "code",
      "source": [
        "##### Verificando os valores e colunas #####\n",
        "\n",
        "#print(dados_do_ativo.isna().any()) # Exibe como True ou False os valores nan do Dataframe\n",
        "#print(dados_do_ativo.isna().sum()) # Exibe a soma dos valores nan no Dataframe\n",
        "#dados_do_ativo.head()\n",
        "#dados_do_ativo.info(verbose=True)\n",
        "#print(dados_do_ativo.info())\n",
        "dados_do_ativo.shape\n",
        "#dados_do_ativo.isna().sum()\n",
        "#dados_do_ativo.isnull().sum()"
      ],
      "metadata": {
        "id": "3wUnJDNEMNxQ"
      },
      "execution_count": null,
      "outputs": []
    },
    {
      "cell_type": "code",
      "source": [
        "dados_do_ativo"
      ],
      "metadata": {
        "id": "xLuTrhN8zT9u"
      },
      "execution_count": null,
      "outputs": []
    },
    {
      "cell_type": "markdown",
      "source": [
        "# Visualização dos dados"
      ],
      "metadata": {
        "id": "gLcgkw1UO1Wv"
      }
    },
    {
      "cell_type": "code",
      "source": [
        "import matplotlib.pyplot as plt\n",
        "#plt.style.use('fivethirtyeight')\n",
        "#plt.style.use('default')\n",
        "\n",
        "plt.figure(figsize=(16,8))\n",
        "plt.title('Histórico de fechamento ' + ativo)\n",
        "plt.plot(dados_do_ativo['Close'])\n",
        "plt.xlabel('Data')\n",
        "plt.ylabel('Preço de fechamento')\n",
        "plt.show()"
      ],
      "metadata": {
        "id": "NhuLADjpO7PE"
      },
      "execution_count": null,
      "outputs": []
    },
    {
      "cell_type": "markdown",
      "source": [
        "# Preparação dos dados"
      ],
      "metadata": {
        "id": "ec4Jszs7PCFE"
      }
    },
    {
      "cell_type": "code",
      "source": [
        "##Cotacoes_df = a coluna Close de dados do ativo\n",
        "cotacoes_df = dados_do_ativo.filter(['Close'])\n",
        "cotacoes = cotacoes_df.values\n",
        "\n",
        "from sklearn.preprocessing import MinMaxScaler\n",
        "\n",
        "##Normaliza os dados/valores entre 0 e 1\n",
        "normalizador = MinMaxScaler(feature_range=(0, 1)) \n",
        "cotacoes_normalizadas = normalizador.fit_transform(cotacoes)"
      ],
      "metadata": {
        "id": "LlJNI-5SPAlt"
      },
      "execution_count": 149,
      "outputs": []
    },
    {
      "cell_type": "code",
      "source": [
        "#cotacoes_normalizadas\n",
        "cotacoes_normalizadas"
      ],
      "metadata": {
        "id": "5uUsBG_c1KbB"
      },
      "execution_count": null,
      "outputs": []
    },
    {
      "cell_type": "markdown",
      "source": [
        "# Separação dos dados para treinamento"
      ],
      "metadata": {
        "id": "Y7bgHa-zPIk8"
      }
    },
    {
      "cell_type": "code",
      "source": [
        "##Separação dos dados de Traino \n",
        "\n",
        "from math import ceil ## Funcao para arredondar os valores\n",
        "\n",
        "dias_treinamento = ceil( len(cotacoes) *.8) #Mutiplica por 8, pra retirar 80% dos dados\n",
        "cotacoes_treinamento = cotacoes_normalizadas[0:dias_treinamento]##Cotações treino = os 80% primeiros dados do df cotacoes normalizados\n",
        "\n",
        "x_treino=[]\n",
        "y_treino = []\n",
        "##percorre o periodo de tempo, separando os valores em x,y\n",
        "for i in range(30,len(cotacoes_treinamento)):\n",
        "    x_treino.append(cotacoes_treinamento[i-30:i])\n",
        "    y_treino.append(cotacoes_treinamento[i])\n",
        "\n",
        "import numpy as np\n",
        "\n",
        "x_treino, y_treino = np.array(x_treino), np.array(y_treino) ##Configura os dados para o array\n",
        "\n",
        "x_treino = np.reshape(x_treino, (len(x_treino),30,1)) ## configura os dias e o betside"
      ],
      "metadata": {
        "id": "Lvpg9tNoPJqj"
      },
      "execution_count": 150,
      "outputs": []
    },
    {
      "cell_type": "markdown",
      "source": [
        "# Criação do modelo"
      ],
      "metadata": {
        "id": "SXQQ3OLpPMh8"
      }
    },
    {
      "cell_type": "code",
      "source": [
        "from keras.models import Sequential\n",
        "from keras.layers import Dense, LSTM\n",
        "\n",
        "model = Sequential()\n",
        "##Camada Sequencial\n",
        "model.add(LSTM(units=50, return_sequences=True,input_shape=(30,1)))\n",
        "model.add(LSTM(units=50, return_sequences=False))\n",
        "#Camada Densa\n",
        "model.add(Dense(units=25))\n",
        "model.add(Dense(units=1))\n",
        "\n",
        "model.compile(optimizer='adam', loss='mean_squared_error')\n",
        "\n"
      ],
      "metadata": {
        "id": "X367pQiqPO7D"
      },
      "execution_count": 151,
      "outputs": []
    },
    {
      "cell_type": "markdown",
      "source": [
        "# Treinamento do modelo"
      ],
      "metadata": {
        "id": "MSQH_zbIPRpD"
      }
    },
    {
      "cell_type": "code",
      "source": [
        "model.fit(x_treino, y_treino, batch_size=1, epochs=3)"
      ],
      "metadata": {
        "id": "3neL90c0PWbi"
      },
      "execution_count": null,
      "outputs": []
    },
    {
      "cell_type": "markdown",
      "source": [
        "# Separação e preparação dos dados para o teste"
      ],
      "metadata": {
        "id": "LxaeVUQQPa3j"
      }
    },
    {
      "cell_type": "code",
      "source": [
        "##Separação dos dados de Teste\n",
        "\n",
        "cotacoes_teste = cotacoes_normalizadas[dias_treinamento - 30:]\n",
        "\n",
        "x_teste = []\n",
        "y_teste =  cotacoes[dias_treinamento:] \n",
        "for i in range(30,len(cotacoes_teste)):\n",
        "    x_teste.append(cotacoes_teste[i-30:i])\n",
        "\n",
        "\n",
        "x_teste = np.array(x_teste)\n",
        "x_teste = np.reshape(x_teste, (len(x_teste),30,1))"
      ],
      "metadata": {
        "id": "ij1y2346PaUz"
      },
      "execution_count": 153,
      "outputs": []
    },
    {
      "cell_type": "markdown",
      "source": [
        "# Teste (predição)"
      ],
      "metadata": {
        "id": "HAD2dhY_Pi5b"
      }
    },
    {
      "cell_type": "code",
      "source": [
        "predictions = model.predict(x_teste) ##recebe a predicao de todos os valores de x-teste\n",
        "\n",
        "predictions = normalizador.inverse_transform(predictions)##Normaliza os valores e faz a inversao dos valores que estavam entre 0 e 1 para valores normais"
      ],
      "metadata": {
        "id": "5EE78rYrPk2y"
      },
      "execution_count": null,
      "outputs": []
    },
    {
      "cell_type": "code",
      "source": [
        "#predictions"
      ],
      "metadata": {
        "id": "uH6T6Mgi8Avz"
      },
      "execution_count": 23,
      "outputs": []
    },
    {
      "cell_type": "markdown",
      "source": [
        "# Cálculo do erro (diferença entre predição e valor real)"
      ],
      "metadata": {
        "id": "DpSWrTH1PnFU"
      }
    },
    {
      "cell_type": "code",
      "source": [
        "rmse=np.sqrt(np.mean(((predictions- y_teste)**2)))\n",
        "rmse"
      ],
      "metadata": {
        "id": "Kr5Zw5W4PoSb"
      },
      "execution_count": null,
      "outputs": []
    },
    {
      "cell_type": "markdown",
      "source": [
        "# Gráfico de comparação"
      ],
      "metadata": {
        "id": "kucLLEb6Pqna"
      }
    },
    {
      "cell_type": "code",
      "source": [
        "treino = cotacoes_df[:dias_treinamento]\n",
        "valido = cotacoes_df[dias_treinamento:]\n",
        "valido['Predictions'] = predictions\n",
        "plt.figure(figsize=(16,8))\n",
        "plt.title('Ativo ' + ativo)\n",
        "plt.xlabel('Data')\n",
        "plt.ylabel('Preço de fechamento (R$)')\n",
        "plt.plot(treino['Close'], color = 'black')\n",
        "plt.plot(valido['Close'], color = 'green')\n",
        "plt.plot(valido['Predictions'], color = 'red')\n",
        "plt.legend(['Histórico', 'Valor real', 'Predição'])\n",
        "plt.show()"
      ],
      "metadata": {
        "id": "SUF3fyZ7Ptly"
      },
      "execution_count": null,
      "outputs": []
    },
    {
      "cell_type": "markdown",
      "source": [
        "# Teste atual"
      ],
      "metadata": {
        "id": "dy4KI-R_Pv_z"
      }
    },
    {
      "cell_type": "code",
      "source": [
        "dados_do_ativo = dados.DataReader(ativo, start=\"2021-08-23\",end=\"2021-10-05\", data_source='yahoo') ## Nova base de dados inicia em 23-08-2021 finaliza em 05-10-2021\n",
        "\n",
        "x = dados_do_ativo.filter(['Close']) ## pega a loluna de fechamento\n",
        "x = normalizador.fit_transform(x) #normaliza os dados\n",
        "x = np.array(x)[:-1] # remove o ultimo dia da base, nesse caso remove o dia 05/10\n",
        "x = np.reshape(x, (1,30,1)) ##Configuração de dados\n",
        "\n",
        "prediction = model.predict(x) #dias de selecionados para o teste\n",
        "\n",
        "prediction = normalizador.inverse_transform(prediction)#faz a inversao dos valores\n",
        "real = dados_do_ativo.filter(['Close']).values[-1] #pega o valor real do utimo dia da base de dados(valor que foi retirado)\n",
        "\n",
        "print('predição: ',prediction)\n",
        "print('real: ',real)"
      ],
      "metadata": {
        "id": "oSzrzLniPy4a"
      },
      "execution_count": null,
      "outputs": []
    },
    {
      "cell_type": "code",
      "source": [
        "#dados_do_ativo"
      ],
      "metadata": {
        "id": "USNR0wFl9N7p"
      },
      "execution_count": 28,
      "outputs": []
    }
  ]
}